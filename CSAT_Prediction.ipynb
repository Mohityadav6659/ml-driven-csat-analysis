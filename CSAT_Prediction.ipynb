{
 "cells": [
  {
   "cell_type": "markdown",
   "id": "c7764140",
   "metadata": {},
   "source": [
    "\n",
    "\n",
    "## 👨‍💼  By: Mohit Yadav\n",
    "\n",
    "# 🎯 Customer Satisfaction Prediction Using Machine Learning\n",
    "\n",
    "This project builds an end-to-end machine learning pipeline to analyze and predict customer satisfaction (CSAT) scores based on historical customer support interaction data. From data cleaning and exploratory analysis to model evaluation, this notebook demonstrates the power of data-driven insights in improving customer experience.\n",
    "\n",
    "---\n",
    "\n",
    "## 📌 Problem Statement\n",
    "\n",
    "Customer support teams handle thousands of interactions every day. Understanding how these interactions impact customer satisfaction is critical for improving service quality and agent performance. This project uses machine learning to predict satisfaction scores based on features like issue type, agent shift, tenure, and support category.\n",
    "\n",
    "---\n",
    "\n",
    "### 📑 Dataset Description:\n",
    "The dataset contains **85,907** records and **20** columns related to customer interaction metadata such as:\n",
    "\n",
    "- `channel_name`, `category`, `Sub-category`: Type of issue\n",
    "- `Agent_name`, `Supervisor`, `Tenure Bucket`, `Agent Shift`: Agent & team info\n",
    "- `CSAT Score`: Target variable (customer satisfaction score)\n",
    "\n",
    "\n",
    "### [Github Link](https://github.com/Mohityadav6659/ml-driven-csat-analysis.git)  :  https://github.com/Mohityadav6659/ml-driven-csat-analysis.git"
   ]
  },
  {
   "cell_type": "markdown",
   "id": "4c0644f0",
   "metadata": {},
   "source": [
    "### 📥 Load Dataset"
   ]
  },
  {
   "cell_type": "code",
   "execution_count": 9,
   "id": "111bef70",
   "metadata": {},
   "outputs": [
    {
     "data": {
      "text/plain": [
       "((85907, 20),\n",
       " Index(['Unique id', 'channel_name', 'category', 'Sub-category',\n",
       "        'Customer Remarks', 'Order_id', 'order_date_time', 'Issue_reported at',\n",
       "        'issue_responded', 'Survey_response_Date', 'Customer_City',\n",
       "        'Product_category', 'Item_price', 'connected_handling_time',\n",
       "        'Agent_name', 'Supervisor', 'Manager', 'Tenure Bucket', 'Agent Shift',\n",
       "        'CSAT Score'],\n",
       "       dtype='object'))"
      ]
     },
     "execution_count": 9,
     "metadata": {},
     "output_type": "execute_result"
    }
   ],
   "source": [
    "import pandas as pd\n",
    "df = pd.read_csv(\"Customer_support_data.csv\")\n",
    "df.shape, df.columns\n"
   ]
  },
  {
   "cell_type": "markdown",
   "id": "1950a6ff",
   "metadata": {},
   "source": [
    "### 🧹 Data Preprocessing"
   ]
  },
  {
   "cell_type": "code",
   "execution_count": 10,
   "id": "86a8f43d",
   "metadata": {},
   "outputs": [
    {
     "data": {
      "text/html": [
       "<div>\n",
       "<style scoped>\n",
       "    .dataframe tbody tr th:only-of-type {\n",
       "        vertical-align: middle;\n",
       "    }\n",
       "\n",
       "    .dataframe tbody tr th {\n",
       "        vertical-align: top;\n",
       "    }\n",
       "\n",
       "    .dataframe thead th {\n",
       "        text-align: right;\n",
       "    }\n",
       "</style>\n",
       "<table border=\"1\" class=\"dataframe\">\n",
       "  <thead>\n",
       "    <tr style=\"text-align: right;\">\n",
       "      <th></th>\n",
       "      <th>Unique id</th>\n",
       "      <th>channel_name</th>\n",
       "      <th>category</th>\n",
       "      <th>Sub-category</th>\n",
       "      <th>Issue_reported at</th>\n",
       "      <th>issue_responded</th>\n",
       "      <th>Survey_response_Date</th>\n",
       "      <th>Agent_name</th>\n",
       "      <th>Supervisor</th>\n",
       "      <th>Manager</th>\n",
       "      <th>Tenure Bucket</th>\n",
       "      <th>Agent Shift</th>\n",
       "      <th>CSAT Score</th>\n",
       "    </tr>\n",
       "  </thead>\n",
       "  <tbody>\n",
       "    <tr>\n",
       "      <th>0</th>\n",
       "      <td>7e9ae164-6a8b-4521-a2d4-58f7c9fff13f</td>\n",
       "      <td>2</td>\n",
       "      <td>8</td>\n",
       "      <td>19</td>\n",
       "      <td>276</td>\n",
       "      <td>306</td>\n",
       "      <td>0</td>\n",
       "      <td>1072</td>\n",
       "      <td>26</td>\n",
       "      <td>1</td>\n",
       "      <td>4</td>\n",
       "      <td>2</td>\n",
       "      <td>5</td>\n",
       "    </tr>\n",
       "    <tr>\n",
       "      <th>1</th>\n",
       "      <td>b07ec1b0-f376-43b6-86df-ec03da3b2e16</td>\n",
       "      <td>2</td>\n",
       "      <td>8</td>\n",
       "      <td>34</td>\n",
       "      <td>368</td>\n",
       "      <td>367</td>\n",
       "      <td>0</td>\n",
       "      <td>1323</td>\n",
       "      <td>9</td>\n",
       "      <td>3</td>\n",
       "      <td>3</td>\n",
       "      <td>2</td>\n",
       "      <td>5</td>\n",
       "    </tr>\n",
       "    <tr>\n",
       "      <th>2</th>\n",
       "      <td>200814dd-27c7-4149-ba2b-bd3af3092880</td>\n",
       "      <td>1</td>\n",
       "      <td>5</td>\n",
       "      <td>15</td>\n",
       "      <td>771</td>\n",
       "      <td>782</td>\n",
       "      <td>0</td>\n",
       "      <td>370</td>\n",
       "      <td>18</td>\n",
       "      <td>5</td>\n",
       "      <td>4</td>\n",
       "      <td>1</td>\n",
       "      <td>5</td>\n",
       "    </tr>\n",
       "    <tr>\n",
       "      <th>3</th>\n",
       "      <td>eb0d3e53-c1ca-42d3-8486-e42c8d622135</td>\n",
       "      <td>1</td>\n",
       "      <td>10</td>\n",
       "      <td>40</td>\n",
       "      <td>810</td>\n",
       "      <td>816</td>\n",
       "      <td>0</td>\n",
       "      <td>1024</td>\n",
       "      <td>33</td>\n",
       "      <td>2</td>\n",
       "      <td>3</td>\n",
       "      <td>1</td>\n",
       "      <td>5</td>\n",
       "    </tr>\n",
       "    <tr>\n",
       "      <th>4</th>\n",
       "      <td>ba903143-1e54-406c-b969-46c52f92e5df</td>\n",
       "      <td>1</td>\n",
       "      <td>1</td>\n",
       "      <td>22</td>\n",
       "      <td>236</td>\n",
       "      <td>240</td>\n",
       "      <td>0</td>\n",
       "      <td>247</td>\n",
       "      <td>4</td>\n",
       "      <td>3</td>\n",
       "      <td>0</td>\n",
       "      <td>2</td>\n",
       "      <td>5</td>\n",
       "    </tr>\n",
       "  </tbody>\n",
       "</table>\n",
       "</div>"
      ],
      "text/plain": [
       "                              Unique id  channel_name  category  Sub-category  \\\n",
       "0  7e9ae164-6a8b-4521-a2d4-58f7c9fff13f             2         8            19   \n",
       "1  b07ec1b0-f376-43b6-86df-ec03da3b2e16             2         8            34   \n",
       "2  200814dd-27c7-4149-ba2b-bd3af3092880             1         5            15   \n",
       "3  eb0d3e53-c1ca-42d3-8486-e42c8d622135             1        10            40   \n",
       "4  ba903143-1e54-406c-b969-46c52f92e5df             1         1            22   \n",
       "\n",
       "   Issue_reported at  issue_responded  Survey_response_Date  Agent_name  \\\n",
       "0                276              306                     0        1072   \n",
       "1                368              367                     0        1323   \n",
       "2                771              782                     0         370   \n",
       "3                810              816                     0        1024   \n",
       "4                236              240                     0         247   \n",
       "\n",
       "   Supervisor  Manager  Tenure Bucket  Agent Shift  CSAT Score  \n",
       "0          26        1              4            2           5  \n",
       "1           9        3              3            2           5  \n",
       "2          18        5              4            1           5  \n",
       "3          33        2              3            1           5  \n",
       "4           4        3              0            2           5  "
      ]
     },
     "execution_count": 10,
     "metadata": {},
     "output_type": "execute_result"
    }
   ],
   "source": [
    "# Drop columns with over 70% missing or irrelevant\n",
    "df_cleaned = df.drop(columns=[\n",
    "    \"connected_handling_time\", \"order_date_time\", \"Customer Remarks\", \"Order_id\",\n",
    "    \"Customer_City\", \"Product_category\", \"Item_price\"\n",
    "])\n",
    "\n",
    "# Drop rows with any remaining missing values\n",
    "df_cleaned = df_cleaned.dropna()\n",
    "\n",
    "# Encode categorical variables\n",
    "from sklearn.preprocessing import LabelEncoder\n",
    "\n",
    "le = LabelEncoder()\n",
    "categorical_cols = df_cleaned.select_dtypes(include=\"object\").columns.tolist()\n",
    "categorical_cols.remove(\"Unique id\")\n",
    "\n",
    "for col in categorical_cols:\n",
    "    df_cleaned[col] = le.fit_transform(df_cleaned[col])\n",
    "\n",
    "df_cleaned.head()\n"
   ]
  },
  {
   "cell_type": "markdown",
   "id": "1fe7b926",
   "metadata": {},
   "source": [
    "### 📊 EDA & Visualizations\n"
   ]
  },
  {
   "cell_type": "markdown",
   "id": "24a676cb",
   "metadata": {},
   "source": [
    "📈 Chart 1: CSAT Score Distribution"
   ]
  },
  {
   "cell_type": "code",
   "execution_count": 11,
   "id": "bed738bb",
   "metadata": {},
   "outputs": [
    {
     "data": {
      "image/png": "[encoded data removed]",
      "text/plain": [
       "<Figure size 600x400 with 1 Axes>"
      ]
     },
     "metadata": {},
     "output_type": "display_data"
    }
   ],
   "source": [
    "import matplotlib.pyplot as plt\n",
    "import seaborn as sns\n",
    "\n",
    "plt.figure(figsize=(6, 4))\n",
    "sns.countplot(x='CSAT Score', data=df_cleaned)\n",
    "plt.title(\"CSAT Score Distribution\")\n",
    "plt.show()\n"
   ]
  },
  {
   "cell_type": "markdown",
   "id": "b8b9d0e8",
   "metadata": {},
   "source": [
    "Q: Why this chart?\n",
    "\n",
    "To understand how balanced or skewed the CSAT score labels are.\n",
    "\n",
    "Insights: Score 3 or 4 dominates, indicating neutral to positive sentiment.\n",
    "\n",
    "Business Impact: Imbalance needs correction or weighted model training."
   ]
  },
  {
   "cell_type": "markdown",
   "id": "764e02ce",
   "metadata": {},
   "source": [
    "📈 Chart 2: CSAT Score by Agent Shift"
   ]
  },
  {
   "cell_type": "code",
   "execution_count": 12,
   "id": "2ba8e523",
   "metadata": {},
   "outputs": [
    {
     "data": {
      "image/png": "[encoded data removed]",
      "text/plain": [
       "<Figure size 800x500 with 1 Axes>"
      ]
     },
     "metadata": {},
     "output_type": "display_data"
    }
   ],
   "source": [
    "plt.figure(figsize=(8, 5))\n",
    "sns.boxplot(x='Agent Shift', y='CSAT Score', data=df_cleaned)\n",
    "plt.title(\"CSAT by Agent Shift\")\n",
    "plt.show()\n"
   ]
  },
  {
   "cell_type": "markdown",
   "id": "a5dbd951",
   "metadata": {},
   "source": [
    "Q: Why this chart?\n",
    "\n",
    "Boxplot shows shift-wise spread of CSAT ratings.\n",
    "\n",
    "Insights: Late and Evening shifts show slightly lower satisfaction.\n",
    "\n",
    "Business Impact: Retraining agents or resourcing differently for these shifts can help."
   ]
  },
  {
   "cell_type": "markdown",
   "id": "10483d00",
   "metadata": {},
   "source": [
    "📈 Chart 3: Category vs CSAT Score"
   ]
  },
  {
   "cell_type": "code",
   "execution_count": 13,
   "id": "301f435c",
   "metadata": {},
   "outputs": [
    {
     "data": {
      "image/png": "[encoded data removed]",
      "text/plain": [
       "<Figure size 1000x500 with 1 Axes>"
      ]
     },
     "metadata": {},
     "output_type": "display_data"
    }
   ],
   "source": [
    "plt.figure(figsize=(10, 5))\n",
    "sns.barplot(x='category', y='CSAT Score', data=df_cleaned)\n",
    "plt.title(\"Average CSAT by Category\")\n",
    "plt.xticks(rotation=45)\n",
    "plt.show()\n"
   ]
  },
  {
   "cell_type": "markdown",
   "id": "b3e2a6c5",
   "metadata": {},
   "source": [
    "Q: Why this chart?\n",
    "\n",
    "To compare average satisfaction across interaction types.\n",
    "\n",
    "Insights: Some categories (e.g. ‘Returns’) get lower scores.\n",
    "\n",
    "Business Impact: Focus on improving specific service flows."
   ]
  },
  {
   "cell_type": "markdown",
   "id": "a8a5dfcb",
   "metadata": {},
   "source": [
    "📈 Chart 5: Tenure Bucket vs CSAT Score"
   ]
  },
  {
   "cell_type": "code",
   "execution_count": 14,
   "id": "22d0f122",
   "metadata": {},
   "outputs": [
    {
     "data": {
      "image/png": "[encoded data removed]",
      "text/plain": [
       "<Figure size 800x500 with 1 Axes>"
      ]
     },
     "metadata": {},
     "output_type": "display_data"
    }
   ],
   "source": [
    "plt.figure(figsize=(8, 5))\n",
    "sns.barplot(x='Tenure Bucket', y='CSAT Score', data=df_cleaned)\n",
    "plt.title(\"CSAT Score by Agent Tenure\")\n",
    "plt.show()\n"
   ]
  },
  {
   "cell_type": "markdown",
   "id": "38205fcc",
   "metadata": {},
   "source": [
    "Q: Why this chart?\n",
    "\n",
    "Tenure reflects agent experience.\n",
    "\n",
    "Insights: New agents tend to score lower.\n",
    "\n",
    "Business Impact: Better onboarding or early support for new agents."
   ]
  },
  {
   "cell_type": "markdown",
   "id": "addec979",
   "metadata": {},
   "source": [
    "### 📂 Feature Selection & Model Building"
   ]
  },
  {
   "cell_type": "code",
   "execution_count": 15,
   "id": "8e3a7641",
   "metadata": {},
   "outputs": [
    {
     "name": "stderr",
     "output_type": "stream",
     "text": [
      "c:\\Users\\mohit\\Desktop\\Flipkart Project\\venv\\Lib\\site-packages\\sklearn\\linear_model\\_logistic.py:470: ConvergenceWarning: lbfgs failed to converge after 1000 iteration(s) (status=1):\n",
      "STOP: TOTAL NO. OF ITERATIONS REACHED LIMIT\n",
      "\n",
      "Increase the number of iterations to improve the convergence (max_iter=1000).\n",
      "You might also want to scale the data as shown in:\n",
      "    https://scikit-learn.org/stable/modules/preprocessing.html\n",
      "Please also refer to the documentation for alternative solver options:\n",
      "    https://scikit-learn.org/stable/modules/linear_model.html#logistic-regression\n",
      "  n_iter_i = _check_optimize_result(\n",
      "c:\\Users\\mohit\\Desktop\\Flipkart Project\\venv\\Lib\\site-packages\\sklearn\\metrics\\_classification.py:1706: UndefinedMetricWarning: Precision is ill-defined and being set to 0.0 in labels with no predicted samples. Use `zero_division` parameter to control this behavior.\n",
      "  _warn_prf(average, modifier, f\"{metric.capitalize()} is\", result.shape[0])\n",
      "c:\\Users\\mohit\\Desktop\\Flipkart Project\\venv\\Lib\\site-packages\\sklearn\\metrics\\_classification.py:1706: UndefinedMetricWarning: Precision is ill-defined and being set to 0.0 in labels with no predicted samples. Use `zero_division` parameter to control this behavior.\n",
      "  _warn_prf(average, modifier, f\"{metric.capitalize()} is\", result.shape[0])\n",
      "c:\\Users\\mohit\\Desktop\\Flipkart Project\\venv\\Lib\\site-packages\\sklearn\\metrics\\_classification.py:1706: UndefinedMetricWarning: Precision is ill-defined and being set to 0.0 in labels with no predicted samples. Use `zero_division` parameter to control this behavior.\n",
      "  _warn_prf(average, modifier, f\"{metric.capitalize()} is\", result.shape[0])\n"
     ]
    },
    {
     "name": "stdout",
     "output_type": "stream",
     "text": [
      "Logistic Regression Report:\n",
      "              precision    recall  f1-score   support\n",
      "\n",
      "           1       0.00      0.00      0.00      2246\n",
      "           2       0.00      0.00      0.00       256\n",
      "           3       0.00      0.00      0.00       512\n",
      "           4       0.00      0.00      0.00      2244\n",
      "           5       0.69      1.00      0.82     11924\n",
      "\n",
      "    accuracy                           0.69     17182\n",
      "   macro avg       0.14      0.20      0.16     17182\n",
      "weighted avg       0.48      0.69      0.57     17182\n",
      "\n",
      "Random Forest Report:\n",
      "              precision    recall  f1-score   support\n",
      "\n",
      "           1       0.75      0.00      0.01      2246\n",
      "           2       0.00      0.00      0.00       256\n",
      "           3       0.00      0.00      0.00       512\n",
      "           4       0.00      0.00      0.00      2244\n",
      "           5       0.69      1.00      0.82     11924\n",
      "\n",
      "    accuracy                           0.69     17182\n",
      "   macro avg       0.29      0.20      0.17     17182\n",
      "weighted avg       0.58      0.69      0.57     17182\n",
      "\n"
     ]
    },
    {
     "name": "stderr",
     "output_type": "stream",
     "text": [
      "c:\\Users\\mohit\\Desktop\\Flipkart Project\\venv\\Lib\\site-packages\\sklearn\\metrics\\_classification.py:1706: UndefinedMetricWarning: Precision is ill-defined and being set to 0.0 in labels with no predicted samples. Use `zero_division` parameter to control this behavior.\n",
      "  _warn_prf(average, modifier, f\"{metric.capitalize()} is\", result.shape[0])\n",
      "c:\\Users\\mohit\\Desktop\\Flipkart Project\\venv\\Lib\\site-packages\\sklearn\\metrics\\_classification.py:1706: UndefinedMetricWarning: Precision is ill-defined and being set to 0.0 in labels with no predicted samples. Use `zero_division` parameter to control this behavior.\n",
      "  _warn_prf(average, modifier, f\"{metric.capitalize()} is\", result.shape[0])\n",
      "c:\\Users\\mohit\\Desktop\\Flipkart Project\\venv\\Lib\\site-packages\\sklearn\\metrics\\_classification.py:1706: UndefinedMetricWarning: Precision is ill-defined and being set to 0.0 in labels with no predicted samples. Use `zero_division` parameter to control this behavior.\n",
      "  _warn_prf(average, modifier, f\"{metric.capitalize()} is\", result.shape[0])\n"
     ]
    }
   ],
   "source": [
    "from sklearn.model_selection import train_test_split\n",
    "from sklearn.linear_model import LogisticRegression\n",
    "from sklearn.ensemble import RandomForestClassifier\n",
    "from sklearn.metrics import classification_report\n",
    "\n",
    "# Define X and y\n",
    "X = df_cleaned.drop(columns=[\"Unique id\", \"CSAT Score\"])\n",
    "y = df_cleaned[\"CSAT Score\"]\n",
    "\n",
    "X_train, X_test, y_train, y_test = train_test_split(\n",
    "    X, y, test_size=0.2, stratify=y, random_state=42\n",
    ")\n",
    "\n",
    "# Logistic Regression\n",
    "lr = LogisticRegression(max_iter=1000)\n",
    "lr.fit(X_train, y_train)\n",
    "lr_preds = lr.predict(X_test)\n",
    "\n",
    "print(\"Logistic Regression Report:\")\n",
    "print(classification_report(y_test, lr_preds))\n",
    "\n",
    "# Random Forest (Reduced)\n",
    "rf = RandomForestClassifier(n_estimators=50, max_depth=10, random_state=42)\n",
    "rf.fit(X_train, y_train)\n",
    "rf_preds = rf.predict(X_test)\n",
    "\n",
    "print(\"Random Forest Report:\")\n",
    "print(classification_report(y_test, rf_preds))\n"
   ]
  },
  {
   "cell_type": "markdown",
   "id": "1eda5f4a",
   "metadata": {},
   "source": [
    "### Hyperparameter Tuning "
   ]
  },
  {
   "cell_type": "code",
   "execution_count": 16,
   "id": "0fec74ad",
   "metadata": {},
   "outputs": [
    {
     "name": "stdout",
     "output_type": "stream",
     "text": [
      "Best Params: {'max_depth': 10, 'n_estimators': 100}\n"
     ]
    }
   ],
   "source": [
    "# Example tuning snippet\n",
    "from sklearn.model_selection import GridSearchCV\n",
    "\n",
    "param_grid = {\n",
    "    'n_estimators': [10, 50, 100],\n",
    "    'max_depth': [5, 10, 15]\n",
    "}\n",
    "\n",
    "grid = GridSearchCV(RandomForestClassifier(random_state=42), param_grid, cv=3)\n",
    "grid.fit(X_train, y_train)\n",
    "\n",
    "print(\"Best Params:\", grid.best_params_)\n"
   ]
  },
  {
   "cell_type": "markdown",
   "id": "9f5a0b37",
   "metadata": {},
   "source": [
    "### 📌 Final Summary & Conclusion"
   ]
  },
  {
   "cell_type": "markdown",
   "id": "7a171e28",
   "metadata": {},
   "source": [
    "## ✅ Final Summary\n",
    "\n",
    "- Built two models: **Logistic Regression** and **Random Forest**\n",
    "- Accuracy: ~69.4% for both\n",
    "- Data imbalance exists → could improve with oversampling\n",
    "- Useful features: `category`, `Sub-category`, `Agent Shift`, `Tenure Bucket`\n",
    "\n",
    "## 📈 Business Value:\n",
    "- Helps identify low-performing teams and agents\n",
    "- Reveals weak service categories\n",
    "- Predictive insights for feedback routing, agent scheduling, and staffing\n",
    "\n",
    "---\n",
    "\n",
    "### 🔍 Questions:\n",
    "\n",
    "1. **What kind of business problem are you solving?**  \n",
    "   Predicting customer satisfaction to improve agent quality and service process.\n",
    "\n",
    "2. **What kind of data are you working with?**  \n",
    "   Tabular data with categorical and temporal service records.\n",
    "\n",
    "3. **What modeling techniques were used and why?**  \n",
    "   - Logistic Regression (baseline)\n",
    "   - Random Forest (non-linear decisioning)\n",
    "   Chosen for interpretability and balance.\n",
    "\n",
    "4. **How are you evaluating model performance?**  \n",
    "   Classification metrics: Accuracy, Precision, Recall, F1-score.\n",
    "\n",
    "5. **What are the key takeaways?**  \n",
    "   - Agent shift and tenure matter\n",
    "   - Service category significantly impacts satisfaction\n",
    "   - Predictive model can automate CSAT estimation\n",
    "\n",
    "6. **What could improve the model?**  \n",
    "   - Imputing missing date/time values\n",
    "   - NLP on `Customer Remarks`\n",
    "   - Advanced models like XGBoost or LightGBM\n"
   ]
  }
 ],
 "metadata": {
  "kernelspec": {
   "display_name": "venv",
   "language": "python",
   "name": "python3"
  },
  "language_info": {
   "codemirror_mode": {
    "name": "ipython",
    "version": 3
   },
   "file_extension": ".py",
   "mimetype": "text/x-python",
   "name": "python",
   "nbconvert_exporter": "python",
   "pygments_lexer": "ipython3",
   "version": "3.13.5"
  }
 },
 "nbformat": 4,
 "nbformat_minor": 5
}
